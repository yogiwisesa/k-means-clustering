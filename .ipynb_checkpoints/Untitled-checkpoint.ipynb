{
 "cells": [
  {
   "cell_type": "code",
   "execution_count": 333,
   "metadata": {},
   "outputs": [],
   "source": [
    "import numpy as np\n",
    "import pandas as pd\n",
    "import matplotlib.pyplot as plt\n",
    "from mpl_toolkits.mplot3d import Axes3D\n",
    "import math\n",
    "import random\n",
    "from operator import itemgetter\n",
    "%matplotlib inline"
   ]
  },
  {
   "cell_type": "code",
   "execution_count": 334,
   "metadata": {},
   "outputs": [],
   "source": [
    "datas = pd.read_csv('TrainsetTugas2.txt', sep=\"\\t\", header=None)"
   ]
  },
  {
   "cell_type": "code",
   "execution_count": 335,
   "metadata": {},
   "outputs": [
    {
     "name": "stdout",
     "output_type": "stream",
     "text": [
      "19.4 23.0\n"
     ]
    }
   ],
   "source": [
    "print(datas[0][5], datas[1][5] )"
   ]
  },
  {
   "cell_type": "code",
   "execution_count": 336,
   "metadata": {},
   "outputs": [
    {
     "data": {
      "image/png": "[encoded data removed]",
      "text/plain": [
       "<matplotlib.figure.Figure at 0x7fce206ecc88>"
      ]
     },
     "metadata": {},
     "output_type": "display_data"
    }
   ],
   "source": [
    "fig = plt.figure()\n",
    "plt.plot(datas[0], datas[1], 'o')\n",
    "plt.show()"
   ]
  },
  {
   "cell_type": "code",
   "execution_count": 337,
   "metadata": {},
   "outputs": [],
   "source": [
    "def euclidean_distance(x1, x2, y1, y2):\n",
    "    return math.sqrt((x1 - y1)**2 + (x2 -y2)**2) "
   ]
  },
  {
   "cell_type": "code",
   "execution_count": 338,
   "metadata": {},
   "outputs": [],
   "source": [
    "def init_centroid(k, size):\n",
    "    list_centroid = []\n",
    "    for i in range(k):\n",
    "        centroid= random.randint(0, size)\n",
    "        while (centroid in list_centroid): # pastikan centroid belum pernah dipilih\n",
    "            centroid = random.randint(1,size)\n",
    "        list_centroid.append([datas[0][centroid], datas[1][centroid]])\n",
    "    \n",
    "    print('list centroid 1: ', list_centroid)\n",
    "    return list_centroid"
   ]
  },
  {
   "cell_type": "code",
   "execution_count": 339,
   "metadata": {},
   "outputs": [],
   "source": [
    "def recalculate_centroid(k, list_cluster):\n",
    "    list_centroid_loc = []\n",
    "    for i in range(k):\n",
    "        sumx1 = 0\n",
    "        sumx2 = 0\n",
    "        n = 0\n",
    "        for j in range(len(datas)):\n",
    "            if (list_cluster[j] == i):\n",
    "                sumx1 = sumx1 + datas[0][j]\n",
    "                sumx2 = sumx2 + datas[1][j]\n",
    "                n = n + 1\n",
    "        if (n != 0):\n",
    "            list_centroid_loc.append([sumx1 / n, sumx2 /n])\n",
    "         \n",
    "    return list_centroid_loc\n",
    "                "
   ]
  },
  {
   "cell_type": "code",
   "execution_count": 340,
   "metadata": {},
   "outputs": [],
   "source": [
    "def which_centroid(x1, x2, list_centroid):\n",
    "    list_distance = []\n",
    "    for i in range(len(list_centroid)):\n",
    "        # list_distance.append(euclidean_distance(x1, x2, datas[0][list_centroid[i]], datas[1][list_centroid[i]])) \n",
    "        list_distance.append(euclidean_distance(x1, x2, list_centroid[i][0], list_centroid[i][1]))     \n",
    "    \n",
    "    return min(enumerate(list_distance), key=itemgetter(1))[0]"
   ]
  },
  {
   "cell_type": "code",
   "execution_count": 341,
   "metadata": {},
   "outputs": [],
   "source": [
    "def kMeans(k, datas):   \n",
    "    list_centroid = []\n",
    "    list_centroid = init_centroid(k, len(datas))       \n",
    "    list_centroid_lama = []\n",
    "    \n",
    "    j = 1\n",
    "    while list_centroid_lama != list_centroid:\n",
    "        \n",
    "        list_cluster = []\n",
    "        for i in range(len(datas)):\n",
    "            list_cluster.append(which_centroid(datas[0][i], datas[1][i], list_centroid))\n",
    "        list_centroid_lama = list_centroid\n",
    "        list_centroid = recalculate_centroid(k, list_cluster)\n",
    "        j = j + 1\n",
    "    \n",
    "    print('Jumlah iterasi: ', j)\n",
    "    \n",
    "    list_return = []\n",
    "    list_return.append(list_centroid)\n",
    "    list_return.append(list_cluster)\n",
    "    return list_return"
   ]
  },
  {
   "cell_type": "code",
   "execution_count": 342,
   "metadata": {},
   "outputs": [],
   "source": [
    "def sse(k, list_cluster, list_centroid):\n",
    "    list_sse = []\n",
    "    for j in range(k):\n",
    "        list_sse.append(0)\n",
    "        \n",
    "    for j in range(len(list_cluster)):\n",
    "        \n",
    "        x1 = datas[0][j]\n",
    "        x2 = datas[1][j]\n",
    "        y1 = list_centroid[list_cluster[j]][0]\n",
    "        y2 = list_centroid[list_cluster[j]][1]\n",
    "        \n",
    "        list_sse[list_cluster[j]] = list_sse[list_cluster[j]] + euclidean_distance(x1, x2, y1,y2)\n",
    "    return sum(list_sse)"
   ]
  },
  {
   "cell_type": "code",
   "execution_count": 343,
   "metadata": {},
   "outputs": [
    {
     "name": "stdout",
     "output_type": "stream",
     "text": [
      "         0      1\n",
      "0    21.30  20.80\n",
      "1    20.15  20.90\n",
      "2    19.20  21.35\n",
      "3    19.10  21.85\n",
      "4    18.45  22.80\n",
      "5    19.40  23.00\n",
      "6    19.55  22.25\n",
      "7    19.80  21.85\n",
      "8    20.50  21.85\n",
      "9    21.70  21.90\n",
      "10   21.40  22.30\n",
      "11   21.00  22.60\n",
      "12   21.15  22.95\n",
      "13   19.75  23.65\n",
      "14   19.20  23.70\n",
      "15   18.45  24.35\n",
      "16   20.65  23.85\n",
      "17   19.70  24.60\n",
      "18   20.15  25.05\n",
      "19   22.15  25.10\n",
      "20   21.60  24.65\n",
      "21   21.90  23.65\n",
      "22   22.55  23.50\n",
      "23   22.55  24.30\n",
      "24   23.30  24.45\n",
      "25   24.25  24.35\n",
      "26   23.80  25.25\n",
      "27   23.40  23.80\n",
      "28   22.90  23.20\n",
      "29   22.30  22.80\n",
      "..     ...    ...\n",
      "658  34.40  25.60\n",
      "659   7.80  13.70\n",
      "660   8.85  13.35\n",
      "661   9.00  12.70\n",
      "662   8.05  12.90\n",
      "663   7.70  13.25\n",
      "664   6.80  13.20\n",
      "665   6.60  13.45\n",
      "666   6.20  12.55\n",
      "667   5.40  12.85\n",
      "668   5.20  11.90\n",
      "669   5.15  11.35\n",
      "670   5.85  11.20\n",
      "671   6.10  11.75\n",
      "672   7.00  12.35\n",
      "673   7.05  12.45\n",
      "674   7.90  12.50\n",
      "675   8.55  12.10\n",
      "676   7.10  11.95\n",
      "677   6.90  11.50\n",
      "678   6.85  10.90\n",
      "679   6.40  10.70\n",
      "680   5.90  10.30\n",
      "681   6.40  10.25\n",
      "682   7.05  10.05\n",
      "683   7.35  10.50\n",
      "684   8.10  11.20\n",
      "685   8.80  11.40\n",
      "686   9.00  10.90\n",
      "687   9.35  10.50\n",
      "\n",
      "[688 rows x 2 columns]\n",
      "list centroid 1:  [[20.15, 20.9], [21.3, 20.8], [20.15, 20.9], [20.15, 20.9], [20.15, 20.9]]\n"
     ]
    },
    {
     "ename": "IndexError",
     "evalue": "list index out of range",
     "output_type": "error",
     "traceback": [
      "\u001b[0;31m---------------------------------------------------------------------------\u001b[0m",
      "\u001b[0;31mIndexError\u001b[0m                                Traceback (most recent call last)",
      "\u001b[0;32m<ipython-input-343-135d20176280>\u001b[0m in \u001b[0;36m<module>\u001b[0;34m()\u001b[0m\n\u001b[1;32m      1\u001b[0m \u001b[0mx\u001b[0m \u001b[0;34m=\u001b[0m \u001b[0;34m[\u001b[0m\u001b[0mdatas\u001b[0m\u001b[0;34m]\u001b[0m\u001b[0;34m\u001b[0m\u001b[0m\n\u001b[1;32m      2\u001b[0m \u001b[0mprint\u001b[0m\u001b[0;34m(\u001b[0m\u001b[0mx\u001b[0m\u001b[0;34m[\u001b[0m\u001b[0;36m0\u001b[0m\u001b[0;34m]\u001b[0m\u001b[0;34m)\u001b[0m\u001b[0;34m\u001b[0m\u001b[0m\n\u001b[0;32m----> 3\u001b[0;31m \u001b[0mkMeans\u001b[0m \u001b[0;34m=\u001b[0m \u001b[0mkMeans\u001b[0m\u001b[0;34m(\u001b[0m\u001b[0;36m5\u001b[0m\u001b[0;34m,\u001b[0m \u001b[0;34m[\u001b[0m\u001b[0mdatas\u001b[0m\u001b[0;34m]\u001b[0m\u001b[0;34m)\u001b[0m\u001b[0;34m\u001b[0m\u001b[0m\n\u001b[0m\u001b[1;32m      4\u001b[0m \u001b[0;34m\u001b[0m\u001b[0m\n\u001b[1;32m      5\u001b[0m \u001b[0mlist_centroid\u001b[0m \u001b[0;34m=\u001b[0m \u001b[0mkMeans\u001b[0m\u001b[0;34m[\u001b[0m\u001b[0;36m0\u001b[0m\u001b[0;34m]\u001b[0m\u001b[0;34m\u001b[0m\u001b[0m\n",
      "\u001b[0;32m<ipython-input-341-8756ba08bec9>\u001b[0m in \u001b[0;36mkMeans\u001b[0;34m(k, datas)\u001b[0m\n\u001b[1;32m      9\u001b[0m         \u001b[0mlist_cluster\u001b[0m \u001b[0;34m=\u001b[0m \u001b[0;34m[\u001b[0m\u001b[0;34m]\u001b[0m\u001b[0;34m\u001b[0m\u001b[0m\n\u001b[1;32m     10\u001b[0m         \u001b[0;32mfor\u001b[0m \u001b[0mi\u001b[0m \u001b[0;32min\u001b[0m \u001b[0mrange\u001b[0m\u001b[0;34m(\u001b[0m\u001b[0mlen\u001b[0m\u001b[0;34m(\u001b[0m\u001b[0mdatas\u001b[0m\u001b[0;34m)\u001b[0m\u001b[0;34m)\u001b[0m\u001b[0;34m:\u001b[0m\u001b[0;34m\u001b[0m\u001b[0m\n\u001b[0;32m---> 11\u001b[0;31m             \u001b[0mlist_cluster\u001b[0m\u001b[0;34m.\u001b[0m\u001b[0mappend\u001b[0m\u001b[0;34m(\u001b[0m\u001b[0mwhich_centroid\u001b[0m\u001b[0;34m(\u001b[0m\u001b[0mdatas\u001b[0m\u001b[0;34m[\u001b[0m\u001b[0;36m0\u001b[0m\u001b[0;34m]\u001b[0m\u001b[0;34m[\u001b[0m\u001b[0mi\u001b[0m\u001b[0;34m]\u001b[0m\u001b[0;34m,\u001b[0m \u001b[0mdatas\u001b[0m\u001b[0;34m[\u001b[0m\u001b[0;36m1\u001b[0m\u001b[0;34m]\u001b[0m\u001b[0;34m[\u001b[0m\u001b[0mi\u001b[0m\u001b[0;34m]\u001b[0m\u001b[0;34m,\u001b[0m \u001b[0mlist_centroid\u001b[0m\u001b[0;34m)\u001b[0m\u001b[0;34m)\u001b[0m\u001b[0;34m\u001b[0m\u001b[0m\n\u001b[0m\u001b[1;32m     12\u001b[0m         \u001b[0mlist_centroid_lama\u001b[0m \u001b[0;34m=\u001b[0m \u001b[0mlist_centroid\u001b[0m\u001b[0;34m\u001b[0m\u001b[0m\n\u001b[1;32m     13\u001b[0m         \u001b[0mlist_centroid\u001b[0m \u001b[0;34m=\u001b[0m \u001b[0mrecalculate_centroid\u001b[0m\u001b[0;34m(\u001b[0m\u001b[0mk\u001b[0m\u001b[0;34m,\u001b[0m \u001b[0mlist_cluster\u001b[0m\u001b[0;34m)\u001b[0m\u001b[0;34m\u001b[0m\u001b[0m\n",
      "\u001b[0;31mIndexError\u001b[0m: list index out of range"
     ]
    }
   ],
   "source": [
    "kMeans = kMeans(5, datas)\n",
    "\n",
    "list_centroid = kMeans[0]\n",
    "list_cluster = kMeans[1]\n",
    "\n",
    "print(sse(5, list_cluster, list_centroid))\n"
   ]
  },
  {
   "cell_type": "code",
   "execution_count": null,
   "metadata": {},
   "outputs": [],
   "source": [
    "kMeans = kMeans(5, datas)\n",
    "\n",
    "list_centroid = kMeans[0]\n",
    "list_cluster = kMeans[1]\n",
    "\n",
    "print(sse(5, list_cluster, list_centroid))"
   ]
  },
  {
   "cell_type": "code",
   "execution_count": null,
   "metadata": {},
   "outputs": [],
   "source": [
    "#fig = plt.figure()\n",
    "\n",
    "#plt.plot(datas[0][list_centroid], datas[1][list_centroid], marker = 'o', color='purple')\n",
    "#print(list_centroid)\n",
    "#plt.show()"
   ]
  },
  {
   "cell_type": "code",
   "execution_count": null,
   "metadata": {},
   "outputs": [],
   "source": [
    "fig = plt.figure()\n",
    "\n",
    "cluster = pd.Series(list_cluster)\n",
    "\n",
    "plt.plot(datas[0][cluster==0], datas[1][cluster==0], marker ='o',color='red')\n",
    "plt.plot(datas[0][cluster==1], datas[1][cluster==1], marker ='o',color='green')\n",
    "plt.plot(datas[0][cluster==2], datas[1][cluster==2], marker ='o',color='blue')\n",
    "plt.plot(datas[0][cluster==3], datas[1][cluster==3], marker ='o',color='black')\n",
    "plt.plot(datas[0][cluster==4], datas[1][cluster==4], marker ='o',color='yellow')\n",
    "plt.plot(datas[0][cluster==5], datas[1][cluster==5], marker ='o',color='magenta')\n",
    "plt.plot(datas[0][cluster==6], datas[1][cluster==6], marker ='o',color='orange')\n",
    "\n",
    "plt.show()"
   ]
  },
  {
   "cell_type": "code",
   "execution_count": null,
   "metadata": {},
   "outputs": [],
   "source": []
  }
 ],
 "metadata": {
  "anaconda-cloud": {},
  "kernelspec": {
   "display_name": "Python 3",
   "language": "python",
   "name": "python3"
  },
  "language_info": {
   "codemirror_mode": {
    "name": "ipython",
    "version": 3
   },
   "file_extension": ".py",
   "mimetype": "text/x-python",
   "name": "python",
   "nbconvert_exporter": "python",
   "pygments_lexer": "ipython3",
   "version": "3.6.4"
  }
 },
 "nbformat": 4,
 "nbformat_minor": 1
}
